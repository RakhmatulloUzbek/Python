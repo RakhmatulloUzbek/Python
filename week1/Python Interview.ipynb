{
 "cells": [
  {
   "cell_type": "markdown",
   "id": "44c31fa8",
   "metadata": {},
   "source": [
    "**Pyhton Interview**"
   ]
  },
  {
   "cell_type": "code",
   "execution_count": 1,
   "id": "1c01fe99",
   "metadata": {},
   "outputs": [
    {
     "name": "stdout",
     "output_type": "stream",
     "text": [
      "10\n",
      "10\n",
      "pazartesi\n"
     ]
    }
   ],
   "source": [
    "var1 = 10\n",
    "var2 = 15\n",
    "\n",
    "gun = \"pazartesi\"\n",
    "\n",
    "print(var1)\n",
    "print(var1)\n",
    "print(gun)"
   ]
  },
  {
   "cell_type": "markdown",
   "id": "c39c12a6",
   "metadata": {},
   "source": [
    "**Lists**"
   ]
  },
  {
   "cell_type": "code",
   "execution_count": 2,
   "id": "bd420557",
   "metadata": {},
   "outputs": [
    {
     "data": {
      "text/plain": [
       "list"
      ]
     },
     "execution_count": 2,
     "metadata": {},
     "output_type": "execute_result"
    }
   ],
   "source": [
    "var1 = 10\n",
    "var2 = 20\n",
    "var3 = 30\n",
    "\n",
    "list_int = [10,20,30]\n",
    "type(list_int)"
   ]
  },
  {
   "cell_type": "code",
   "execution_count": 3,
   "id": "df80a287",
   "metadata": {},
   "outputs": [
    {
     "data": {
      "text/plain": [
       "30"
      ]
     },
     "execution_count": 3,
     "metadata": {},
     "output_type": "execute_result"
    }
   ],
   "source": [
    "#get last value in list\n",
    "lastValue = list_int[-1]\n",
    "lastValue"
   ]
  },
  {
   "cell_type": "code",
   "execution_count": 4,
   "id": "1c6f6d7f",
   "metadata": {},
   "outputs": [
    {
     "data": {
      "text/plain": [
       "[10, 20, 30]"
      ]
     },
     "execution_count": 4,
     "metadata": {},
     "output_type": "execute_result"
    }
   ],
   "source": [
    "list_int[0:3]"
   ]
  },
  {
   "cell_type": "code",
   "execution_count": 7,
   "id": "9376b2ca",
   "metadata": {},
   "outputs": [
    {
     "data": {
      "text/plain": [
       "[10, 20, 30, 7, 7, 8]"
      ]
     },
     "execution_count": 7,
     "metadata": {},
     "output_type": "execute_result"
    }
   ],
   "source": [
    "list_int.append(8)\n",
    "list_int"
   ]
  },
  {
   "cell_type": "code",
   "execution_count": 8,
   "id": "2251a503",
   "metadata": {},
   "outputs": [
    {
     "data": {
      "text/plain": [
       "[10, 20, 30, 7, 8]"
      ]
     },
     "execution_count": 8,
     "metadata": {},
     "output_type": "execute_result"
    }
   ],
   "source": [
    "list_int.remove(7)\n",
    "list_int"
   ]
  },
  {
   "cell_type": "code",
   "execution_count": 9,
   "id": "a388570c",
   "metadata": {},
   "outputs": [
    {
     "name": "stdout",
     "output_type": "stream",
     "text": [
      "[8, 7, 30, 20, 10]\n"
     ]
    }
   ],
   "source": [
    "list_int.reverse()\n",
    "print(list_int)"
   ]
  },
  {
   "cell_type": "code",
   "execution_count": 10,
   "id": "2cae92b9",
   "metadata": {},
   "outputs": [
    {
     "name": "stdout",
     "output_type": "stream",
     "text": [
      "[7, 8, 10, 20, 30]\n"
     ]
    }
   ],
   "source": [
    "list_int.sort()\n",
    "print(list_int)"
   ]
  },
  {
   "cell_type": "markdown",
   "id": "d452eb82",
   "metadata": {},
   "source": [
    "**Loops**"
   ]
  },
  {
   "cell_type": "code",
   "execution_count": 12,
   "id": "7bffdbb3",
   "metadata": {},
   "outputs": [
    {
     "name": "stdout",
     "output_type": "stream",
     "text": [
      "1\n",
      "2\n",
      "3\n",
      "4\n",
      "5\n",
      "6\n",
      "7\n",
      "8\n",
      "9\n",
      "10\n"
     ]
    }
   ],
   "source": [
    "#for loop\n",
    "\n",
    "for each in range(1,11):\n",
    "    print(each)\n"
   ]
  },
  {
   "cell_type": "code",
   "execution_count": 15,
   "id": "a5220a4b",
   "metadata": {},
   "outputs": [
    {
     "name": "stdout",
     "output_type": "stream",
     "text": [
      "7\n"
     ]
    }
   ],
   "source": [
    "#minimum value\n",
    "\n",
    "minValue = 9999\n",
    "for each in list_int:\n",
    "    if(minValue>each):\n",
    "        minValue = each\n",
    "    else:\n",
    "        continue\n",
    "print(minValue)    "
   ]
  },
  {
   "cell_type": "code",
   "execution_count": 16,
   "id": "beea6e6f",
   "metadata": {},
   "outputs": [
    {
     "name": "stdout",
     "output_type": "stream",
     "text": [
      "30\n"
     ]
    }
   ],
   "source": [
    "#maximum value\n",
    "\n",
    "maxValue = 0\n",
    "for each in list_int:\n",
    "    if(maxValue<each):\n",
    "        maxValue = each\n",
    "    else:\n",
    "        continue\n",
    "print(maxValue) "
   ]
  },
  {
   "cell_type": "code",
   "execution_count": 1,
   "id": "1e9aec7c",
   "metadata": {},
   "outputs": [
    {
     "name": "stdout",
     "output_type": "stream",
     "text": [
      "1\n",
      "2\n",
      "3\n",
      "4\n",
      "5\n"
     ]
    }
   ],
   "source": [
    "#while loop\n",
    "\n",
    "i = 1\n",
    "while(i<=5):\n",
    "    print(i)\n",
    "    i=i+1"
   ]
  },
  {
   "cell_type": "markdown",
   "id": "6e3eb217",
   "metadata": {},
   "source": [
    "**Fonction**"
   ]
  },
  {
   "cell_type": "code",
   "execution_count": 4,
   "id": "45733b90",
   "metadata": {},
   "outputs": [
    {
     "data": {
      "text/plain": [
       "12.56"
      ]
     },
     "execution_count": 4,
     "metadata": {},
     "output_type": "execute_result"
    }
   ],
   "source": [
    "def cember_cevre(r,pi=3.14):\n",
    "    output = 2*pi*r\n",
    "    return output\n",
    "\n",
    "cember_cevre(2)"
   ]
  },
  {
   "cell_type": "code",
   "execution_count": 6,
   "id": "0925ddf6",
   "metadata": {},
   "outputs": [
    {
     "data": {
      "text/plain": [
       "9"
      ]
     },
     "execution_count": 6,
     "metadata": {},
     "output_type": "execute_result"
    }
   ],
   "source": [
    "def hesapla(x):\n",
    "    output = x*x\n",
    "    return output\n",
    "\n",
    "sonuc = hesapla(3)\n",
    "sonuc"
   ]
  },
  {
   "cell_type": "code",
   "execution_count": 9,
   "id": "2077d782",
   "metadata": {},
   "outputs": [
    {
     "data": {
      "text/plain": [
       "9"
      ]
     },
     "execution_count": 9,
     "metadata": {},
     "output_type": "execute_result"
    }
   ],
   "source": [
    "#lambda\n",
    "x=3\n",
    "sonuc = lambda x: x*x\n",
    "sonuc(3)"
   ]
  },
  {
   "cell_type": "markdown",
   "id": "bf1ed707",
   "metadata": {},
   "source": [
    "**Dictionary**"
   ]
  },
  {
   "cell_type": "code",
   "execution_count": 10,
   "id": "a5a04fe5",
   "metadata": {},
   "outputs": [
    {
     "name": "stdout",
     "output_type": "stream",
     "text": [
      "{'sevval': 23, 'suleyman': 26, 'beyza': 24}\n"
     ]
    }
   ],
   "source": [
    "dictionary = {\"sevval\":23,\"suleyman\":26,\"beyza\":24}\n",
    "print(dictionary)"
   ]
  },
  {
   "cell_type": "code",
   "execution_count": 11,
   "id": "d6df702b",
   "metadata": {},
   "outputs": [
    {
     "data": {
      "text/plain": [
       "dict"
      ]
     },
     "execution_count": 11,
     "metadata": {},
     "output_type": "execute_result"
    }
   ],
   "source": [
    "type(dictionary)"
   ]
  },
  {
   "cell_type": "code",
   "execution_count": 12,
   "id": "730eb019",
   "metadata": {},
   "outputs": [
    {
     "data": {
      "text/plain": [
       "dict_keys(['sevval', 'suleyman', 'beyza'])"
      ]
     },
     "execution_count": 12,
     "metadata": {},
     "output_type": "execute_result"
    }
   ],
   "source": [
    "dictionary.keys()"
   ]
  },
  {
   "cell_type": "code",
   "execution_count": 13,
   "id": "530dad2d",
   "metadata": {},
   "outputs": [
    {
     "data": {
      "text/plain": [
       "dict_values([23, 26, 24])"
      ]
     },
     "execution_count": 13,
     "metadata": {},
     "output_type": "execute_result"
    }
   ],
   "source": [
    "dictionary.values()"
   ]
  },
  {
   "cell_type": "code",
   "execution_count": 14,
   "id": "9ee079f8",
   "metadata": {},
   "outputs": [
    {
     "name": "stdout",
     "output_type": "stream",
     "text": [
      "Yes\n"
     ]
    }
   ],
   "source": [
    "keys = dictionary.keys()\n",
    "\n",
    "if \"sevval\" in keys:\n",
    "    print(\"Yes\")\n",
    "else:\n",
    "    print(\"No\")"
   ]
  },
  {
   "cell_type": "code",
   "execution_count": null,
   "id": "389e289b",
   "metadata": {},
   "outputs": [],
   "source": []
  }
 ],
 "metadata": {
  "kernelspec": {
   "display_name": "Python 3 (ipykernel)",
   "language": "python",
   "name": "python3"
  },
  "language_info": {
   "codemirror_mode": {
    "name": "ipython",
    "version": 3
   },
   "file_extension": ".py",
   "mimetype": "text/x-python",
   "name": "python",
   "nbconvert_exporter": "python",
   "pygments_lexer": "ipython3",
   "version": "3.9.13"
  }
 },
 "nbformat": 4,
 "nbformat_minor": 5
}
