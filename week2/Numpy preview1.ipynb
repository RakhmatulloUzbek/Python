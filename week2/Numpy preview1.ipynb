{
 "cells": [
  {
   "cell_type": "code",
   "execution_count": 4,
   "id": "d79681b0",
   "metadata": {},
   "outputs": [],
   "source": [
    "import numpy as np"
   ]
  },
  {
   "cell_type": "markdown",
   "id": "0f4e6555",
   "metadata": {},
   "source": [
    "**One-dimensional Array**"
   ]
  },
  {
   "cell_type": "code",
   "execution_count": 2,
   "id": "08bcd841",
   "metadata": {},
   "outputs": [],
   "source": [
    "np_array1 = np.array([1,2,3,4,5,6,7,8,9]) "
   ]
  },
  {
   "cell_type": "code",
   "execution_count": 3,
   "id": "35989503",
   "metadata": {},
   "outputs": [
    {
     "name": "stdout",
     "output_type": "stream",
     "text": [
      "[1 2 3 4 5 6 7 8 9]\n"
     ]
    }
   ],
   "source": [
    "print(np_array1)"
   ]
  },
  {
   "cell_type": "code",
   "execution_count": 4,
   "id": "ac56b12f",
   "metadata": {},
   "outputs": [
    {
     "data": {
      "text/plain": [
       "(9,)"
      ]
     },
     "execution_count": 4,
     "metadata": {},
     "output_type": "execute_result"
    }
   ],
   "source": [
    "np_array.shape"
   ]
  },
  {
   "cell_type": "markdown",
   "id": "0d1bade3",
   "metadata": {},
   "source": [
    "**Two-dimensional Array**"
   ]
  },
  {
   "cell_type": "code",
   "execution_count": 20,
   "id": "c02f71dc",
   "metadata": {},
   "outputs": [],
   "source": [
    "np_array2 = np.array([1,2,3,4,5,6,7,8,9])"
   ]
  },
  {
   "cell_type": "code",
   "execution_count": 39,
   "id": "77855938",
   "metadata": {},
   "outputs": [
    {
     "data": {
      "text/plain": [
       "(9,)"
      ]
     },
     "execution_count": 39,
     "metadata": {},
     "output_type": "execute_result"
    }
   ],
   "source": [
    "np_array2.shape"
   ]
  },
  {
   "cell_type": "code",
   "execution_count": 8,
   "id": "a0b37862",
   "metadata": {},
   "outputs": [],
   "source": [
    "np_array2 = np_array2.reshape(3,3)"
   ]
  },
  {
   "cell_type": "code",
   "execution_count": 9,
   "id": "069a018e",
   "metadata": {},
   "outputs": [
    {
     "data": {
      "text/plain": [
       "(3, 3)"
      ]
     },
     "execution_count": 9,
     "metadata": {},
     "output_type": "execute_result"
    }
   ],
   "source": [
    "np_array2.shape"
   ]
  },
  {
   "cell_type": "code",
   "execution_count": 11,
   "id": "f9270500",
   "metadata": {},
   "outputs": [
    {
     "data": {
      "text/plain": [
       "2"
      ]
     },
     "execution_count": 11,
     "metadata": {},
     "output_type": "execute_result"
    }
   ],
   "source": [
    "np_array2.ndim"
   ]
  },
  {
   "cell_type": "markdown",
   "id": "b54dda05",
   "metadata": {},
   "source": [
    "**Type name of Array**"
   ]
  },
  {
   "cell_type": "code",
   "execution_count": 13,
   "id": "5b9d94d6",
   "metadata": {},
   "outputs": [
    {
     "data": {
      "text/plain": [
       "'int32'"
      ]
     },
     "execution_count": 13,
     "metadata": {},
     "output_type": "execute_result"
    }
   ],
   "source": [
    "np_array2.dtype.name"
   ]
  },
  {
   "cell_type": "markdown",
   "id": "29f65500",
   "metadata": {},
   "source": [
    "**Number of elements in Array**"
   ]
  },
  {
   "cell_type": "code",
   "execution_count": 17,
   "id": "32ca008e",
   "metadata": {},
   "outputs": [
    {
     "name": "stdout",
     "output_type": "stream",
     "text": [
      "9\n"
     ]
    }
   ],
   "source": [
    "print(np_array2.size)"
   ]
  },
  {
   "cell_type": "markdown",
   "id": "7fb1bdd8",
   "metadata": {},
   "source": [
    "**Type of Array**"
   ]
  },
  {
   "cell_type": "code",
   "execution_count": 18,
   "id": "b0505645",
   "metadata": {},
   "outputs": [
    {
     "data": {
      "text/plain": [
       "numpy.ndarray"
      ]
     },
     "execution_count": 18,
     "metadata": {},
     "output_type": "execute_result"
    }
   ],
   "source": [
    "type(np_array)"
   ]
  },
  {
   "cell_type": "markdown",
   "id": "ae048e4e",
   "metadata": {},
   "source": [
    "**Array of Zeros**"
   ]
  },
  {
   "cell_type": "code",
   "execution_count": 23,
   "id": "25dc5750",
   "metadata": {},
   "outputs": [
    {
     "data": {
      "text/plain": [
       "array([[0., 0., 0.],\n",
       "       [0., 0., 0.],\n",
       "       [0., 0., 0.]])"
      ]
     },
     "execution_count": 23,
     "metadata": {},
     "output_type": "execute_result"
    }
   ],
   "source": [
    "zeros = np.zeros((3,3))\n",
    "zeros"
   ]
  },
  {
   "cell_type": "markdown",
   "id": "b2726e48",
   "metadata": {},
   "source": [
    "**Array of Ones**"
   ]
  },
  {
   "cell_type": "code",
   "execution_count": 24,
   "id": "b044897d",
   "metadata": {},
   "outputs": [
    {
     "data": {
      "text/plain": [
       "array([[1., 1., 1.],\n",
       "       [1., 1., 1.],\n",
       "       [1., 1., 1.]])"
      ]
     },
     "execution_count": 24,
     "metadata": {},
     "output_type": "execute_result"
    }
   ],
   "source": [
    "ones = np.ones((3,3))\n",
    "ones"
   ]
  },
  {
   "cell_type": "markdown",
   "id": "b7d7ab57",
   "metadata": {},
   "source": [
    "**Empty Array**"
   ]
  },
  {
   "cell_type": "code",
   "execution_count": 40,
   "id": "ad7b21f2",
   "metadata": {},
   "outputs": [
    {
     "data": {
      "text/plain": [
       "array([[1., 1., 1.],\n",
       "       [1., 1., 1.],\n",
       "       [1., 1., 1.]])"
      ]
     },
     "execution_count": 40,
     "metadata": {},
     "output_type": "execute_result"
    }
   ],
   "source": [
    "empty = np.empty((3,3))\n",
    "empty"
   ]
  },
  {
   "cell_type": "code",
   "execution_count": 27,
   "id": "c0ba67aa",
   "metadata": {},
   "outputs": [
    {
     "data": {
      "text/plain": [
       "array([[1., 1., 1.],\n",
       "       [1., 1., 1.],\n",
       "       [1., 1., 1.]])"
      ]
     },
     "execution_count": 27,
     "metadata": {},
     "output_type": "execute_result"
    }
   ],
   "source": [
    "np.empty((3,3))"
   ]
  },
  {
   "cell_type": "markdown",
   "id": "85515d32",
   "metadata": {},
   "source": [
    "**Arange**"
   ]
  },
  {
   "cell_type": "code",
   "execution_count": 29,
   "id": "dd5095d0",
   "metadata": {},
   "outputs": [
    {
     "data": {
      "text/plain": [
       "array([10, 15, 20, 25, 30, 35, 40, 45])"
      ]
     },
     "execution_count": 29,
     "metadata": {},
     "output_type": "execute_result"
    }
   ],
   "source": [
    "np.arange(10,50,5)"
   ]
  },
  {
   "cell_type": "markdown",
   "id": "917a0d3a",
   "metadata": {},
   "source": [
    "**Line space**"
   ]
  },
  {
   "cell_type": "code",
   "execution_count": 30,
   "id": "340052a2",
   "metadata": {},
   "outputs": [
    {
     "data": {
      "text/plain": [
       "array([ 0.        ,  0.52631579,  1.05263158,  1.57894737,  2.10526316,\n",
       "        2.63157895,  3.15789474,  3.68421053,  4.21052632,  4.73684211,\n",
       "        5.26315789,  5.78947368,  6.31578947,  6.84210526,  7.36842105,\n",
       "        7.89473684,  8.42105263,  8.94736842,  9.47368421, 10.        ])"
      ]
     },
     "execution_count": 30,
     "metadata": {},
     "output_type": "execute_result"
    }
   ],
   "source": [
    "np.linspace(0,10,20)"
   ]
  },
  {
   "cell_type": "markdown",
   "id": "c1c62699",
   "metadata": {},
   "source": [
    "**Using with Operations**"
   ]
  },
  {
   "cell_type": "code",
   "execution_count": 33,
   "id": "ad0c4f1e",
   "metadata": {},
   "outputs": [],
   "source": [
    "a = np.array([1,2,3])"
   ]
  },
  {
   "cell_type": "code",
   "execution_count": 32,
   "id": "ddecc8f6",
   "metadata": {},
   "outputs": [],
   "source": [
    "b = np.array([6,5,4])"
   ]
  },
  {
   "cell_type": "code",
   "execution_count": 34,
   "id": "f87d64ad",
   "metadata": {},
   "outputs": [
    {
     "name": "stdout",
     "output_type": "stream",
     "text": [
      "[7 7 7]\n"
     ]
    }
   ],
   "source": [
    "print(a+b)"
   ]
  },
  {
   "cell_type": "code",
   "execution_count": 35,
   "id": "99d2229b",
   "metadata": {},
   "outputs": [
    {
     "name": "stdout",
     "output_type": "stream",
     "text": [
      "[-5 -3 -1]\n"
     ]
    }
   ],
   "source": [
    "print(a-b)"
   ]
  },
  {
   "cell_type": "code",
   "execution_count": 36,
   "id": "de9679ac",
   "metadata": {},
   "outputs": [
    {
     "name": "stdout",
     "output_type": "stream",
     "text": [
      "[ 6 10 12]\n"
     ]
    }
   ],
   "source": [
    "print(a*b)"
   ]
  },
  {
   "cell_type": "code",
   "execution_count": 42,
   "id": "f2d4c3f4",
   "metadata": {},
   "outputs": [],
   "source": [
    "py_array = [1,2,3,4,5]"
   ]
  },
  {
   "cell_type": "code",
   "execution_count": 43,
   "id": "e439f2f3",
   "metadata": {},
   "outputs": [],
   "source": [
    "np_array = np.array([1,2,3,4,5])"
   ]
  },
  {
   "cell_type": "code",
   "execution_count": 45,
   "id": "21f6f668",
   "metadata": {},
   "outputs": [
    {
     "name": "stdout",
     "output_type": "stream",
     "text": [
      "[1, 2, 3, 4, 5]\n",
      "[1 2 3 4 5]\n"
     ]
    }
   ],
   "source": [
    "print(py_array)\n",
    "print(np_array)"
   ]
  },
  {
   "cell_type": "markdown",
   "id": "f6f18132",
   "metadata": {},
   "source": [
    "**Copy Array**"
   ]
  },
  {
   "cell_type": "code",
   "execution_count": 52,
   "id": "2f8c6094",
   "metadata": {},
   "outputs": [],
   "source": [
    "a = np.array([1,2,3])"
   ]
  },
  {
   "cell_type": "code",
   "execution_count": 47,
   "id": "820f84f1",
   "metadata": {},
   "outputs": [],
   "source": [
    "b = a\n",
    "c = a"
   ]
  },
  {
   "cell_type": "code",
   "execution_count": 49,
   "id": "659535a4",
   "metadata": {},
   "outputs": [],
   "source": [
    "b[0] = 0"
   ]
  },
  {
   "cell_type": "code",
   "execution_count": 50,
   "id": "42c75079",
   "metadata": {},
   "outputs": [
    {
     "name": "stdout",
     "output_type": "stream",
     "text": [
      "[0 2 3] [0 2 3] [0 2 3]\n"
     ]
    }
   ],
   "source": [
    "print(a,b,c)"
   ]
  },
  {
   "cell_type": "code",
   "execution_count": 53,
   "id": "cd6a4d45",
   "metadata": {},
   "outputs": [
    {
     "data": {
      "text/plain": [
       "array([1, 2, 3])"
      ]
     },
     "execution_count": 53,
     "metadata": {},
     "output_type": "execute_result"
    }
   ],
   "source": [
    "a"
   ]
  },
  {
   "cell_type": "code",
   "execution_count": 54,
   "id": "aaad62bc",
   "metadata": {},
   "outputs": [],
   "source": [
    "a = np.array([1,2,3])"
   ]
  },
  {
   "cell_type": "code",
   "execution_count": 55,
   "id": "67c943cc",
   "metadata": {},
   "outputs": [],
   "source": [
    "b = a.copy()\n",
    "c = a.copy()"
   ]
  },
  {
   "cell_type": "code",
   "execution_count": 57,
   "id": "faec67cf",
   "metadata": {},
   "outputs": [],
   "source": [
    "b[0] = 0"
   ]
  },
  {
   "cell_type": "code",
   "execution_count": 58,
   "id": "06de8072",
   "metadata": {},
   "outputs": [
    {
     "name": "stdout",
     "output_type": "stream",
     "text": [
      "[1 2 3] [0 2 3] [1 2 3]\n"
     ]
    }
   ],
   "source": [
    "print(a,b,c)"
   ]
  },
  {
   "cell_type": "markdown",
   "id": "df73bfe6",
   "metadata": {},
   "source": [
    "**Indexing**"
   ]
  },
  {
   "cell_type": "code",
   "execution_count": 5,
   "id": "00a5f363",
   "metadata": {},
   "outputs": [
    {
     "data": {
      "text/plain": [
       "array([1, 2, 3, 4, 5, 6, 7, 8, 9])"
      ]
     },
     "execution_count": 5,
     "metadata": {},
     "output_type": "execute_result"
    }
   ],
   "source": [
    "a = np.array([1,2,3,4,5,6,7,8,9])\n",
    "a"
   ]
  },
  {
   "cell_type": "code",
   "execution_count": 7,
   "id": "96422ed0",
   "metadata": {},
   "outputs": [
    {
     "name": "stdout",
     "output_type": "stream",
     "text": [
      "[1 2 3 4]\n"
     ]
    }
   ],
   "source": [
    "print(a[:4])"
   ]
  },
  {
   "cell_type": "code",
   "execution_count": 9,
   "id": "72cd40b5",
   "metadata": {},
   "outputs": [
    {
     "data": {
      "text/plain": [
       "array([[1, 2, 3],\n",
       "       [4, 5, 6],\n",
       "       [7, 8, 9]])"
      ]
     },
     "execution_count": 9,
     "metadata": {},
     "output_type": "execute_result"
    }
   ],
   "source": [
    "b = a.reshape(3,3)\n",
    "b"
   ]
  },
  {
   "cell_type": "code",
   "execution_count": 10,
   "id": "5b1aebb9",
   "metadata": {},
   "outputs": [
    {
     "data": {
      "text/plain": [
       "5"
      ]
     },
     "execution_count": 10,
     "metadata": {},
     "output_type": "execute_result"
    }
   ],
   "source": [
    "b[1,1]"
   ]
  },
  {
   "cell_type": "markdown",
   "id": "c45f26eb",
   "metadata": {},
   "source": [
    "**Row**"
   ]
  },
  {
   "cell_type": "code",
   "execution_count": 14,
   "id": "a2cf14d3",
   "metadata": {},
   "outputs": [
    {
     "name": "stdout",
     "output_type": "stream",
     "text": [
      "[2 5 8]\n"
     ]
    }
   ],
   "source": [
    "print(b[:,1])"
   ]
  },
  {
   "cell_type": "markdown",
   "id": "9f952c58",
   "metadata": {},
   "source": [
    "**Column**"
   ]
  },
  {
   "cell_type": "code",
   "execution_count": 15,
   "id": "80592b9f",
   "metadata": {},
   "outputs": [
    {
     "name": "stdout",
     "output_type": "stream",
     "text": [
      "[4 5 6]\n"
     ]
    }
   ],
   "source": [
    "print(b[1,:])"
   ]
  },
  {
   "cell_type": "code",
   "execution_count": 16,
   "id": "5e8e7514",
   "metadata": {},
   "outputs": [
    {
     "name": "stdout",
     "output_type": "stream",
     "text": [
      "[5 6]\n"
     ]
    }
   ],
   "source": [
    "print(b[1,1:4])"
   ]
  },
  {
   "cell_type": "markdown",
   "id": "452ebd62",
   "metadata": {},
   "source": [
    "**End of row**"
   ]
  },
  {
   "cell_type": "code",
   "execution_count": 17,
   "id": "2076e5d1",
   "metadata": {},
   "outputs": [
    {
     "name": "stdout",
     "output_type": "stream",
     "text": [
      "[7 8 9]\n"
     ]
    }
   ],
   "source": [
    "print(b[-1,:])"
   ]
  },
  {
   "cell_type": "markdown",
   "id": "f2a11396",
   "metadata": {},
   "source": [
    "**End of column**"
   ]
  },
  {
   "cell_type": "code",
   "execution_count": 18,
   "id": "cea2a10b",
   "metadata": {},
   "outputs": [
    {
     "name": "stdout",
     "output_type": "stream",
     "text": [
      "[3 6 9]\n"
     ]
    }
   ],
   "source": [
    "print(b[:,-1])"
   ]
  },
  {
   "cell_type": "markdown",
   "id": "d2f17bb1",
   "metadata": {},
   "source": [
    "**Ravel()**"
   ]
  },
  {
   "cell_type": "code",
   "execution_count": 19,
   "id": "93fb7e08",
   "metadata": {},
   "outputs": [
    {
     "data": {
      "text/plain": [
       "array([1, 2, 3, 4, 5, 6, 7, 8, 9])"
      ]
     },
     "execution_count": 19,
     "metadata": {},
     "output_type": "execute_result"
    }
   ],
   "source": [
    "np.ravel(b)"
   ]
  },
  {
   "cell_type": "code",
   "execution_count": 23,
   "id": "c23d978a",
   "metadata": {},
   "outputs": [
    {
     "data": {
      "text/plain": [
       "array([1, 2, 3, 4, 5, 6, 7, 8, 9])"
      ]
     },
     "execution_count": 23,
     "metadata": {},
     "output_type": "execute_result"
    }
   ],
   "source": [
    "b = b.ravel()\n",
    "b"
   ]
  },
  {
   "cell_type": "code",
   "execution_count": 24,
   "id": "f133ae46",
   "metadata": {},
   "outputs": [
    {
     "data": {
      "text/plain": [
       "array([[1, 2, 3],\n",
       "       [4, 5, 6],\n",
       "       [7, 8, 9]])"
      ]
     },
     "execution_count": 24,
     "metadata": {},
     "output_type": "execute_result"
    }
   ],
   "source": [
    "b.reshape(3,3)"
   ]
  },
  {
   "cell_type": "code",
   "execution_count": 26,
   "id": "6e4d43d8",
   "metadata": {},
   "outputs": [
    {
     "data": {
      "text/plain": [
       "array([[1, 2, 3],\n",
       "       [4, 5, 6],\n",
       "       [7, 8, 9]])"
      ]
     },
     "execution_count": 26,
     "metadata": {},
     "output_type": "execute_result"
    }
   ],
   "source": [
    "b.resize(3,3)\n",
    "b"
   ]
  },
  {
   "cell_type": "code",
   "execution_count": null,
   "id": "c03e915a",
   "metadata": {},
   "outputs": [],
   "source": []
  }
 ],
 "metadata": {
  "kernelspec": {
   "display_name": "Python 3 (ipykernel)",
   "language": "python",
   "name": "python3"
  },
  "language_info": {
   "codemirror_mode": {
    "name": "ipython",
    "version": 3
   },
   "file_extension": ".py",
   "mimetype": "text/x-python",
   "name": "python",
   "nbconvert_exporter": "python",
   "pygments_lexer": "ipython3",
   "version": "3.9.13"
  }
 },
 "nbformat": 4,
 "nbformat_minor": 5
}
